{
 "cells": [
  {
   "cell_type": "markdown",
   "metadata": {},
   "source": [
    "# Unity ML Agents\n",
    "## Proximal Policy Optimization (PPO)\n",
    "Contains an implementation of PPO as described [here](https://arxiv.org/abs/1707.06347)."
   ]
  },
  {
   "cell_type": "code",
   "execution_count": 1,
   "metadata": {},
   "outputs": [],
   "source": [
    "import numpy as np\n",
    "import os\n",
    "import tensorflow as tf\n",
    "\n",
    "from ppo.history import *\n",
    "from ppo.models import *\n",
    "from ppo.trainer import Trainer\n",
    "from unityagents import *"
   ]
  },
  {
   "cell_type": "markdown",
   "metadata": {},
   "source": [
    "### Hyperparameters"
   ]
  },
  {
   "cell_type": "code",
   "execution_count": 2,
   "metadata": {},
   "outputs": [],
   "source": [
    "### General parameters\n",
    "max_steps = 5e5 # Set maximum number of steps to run environment.\n",
    "run_path = \"ppo\" # The sub-directory name for model and summary statistics\n",
    "load_model = False # Whether to load a saved model.\n",
    "train_model = True # Whether to train the model.\n",
    "summary_freq = 10000 # Frequency at which to save training statistics.\n",
    "save_freq = 50000 # Frequency at which to save model.\n",
    "env_name = \"PPOLSingle\" # Name of the training environment file.\n",
    "curriculum_file = None\n",
    "\n",
    "### Algorithm-specific parameters for tuning\n",
    "gamma = 0.99 #0.99 # Reward discount rate.\n",
    "lambd = 0.95 ##0.95 # Lambda parameter for GAE.\n",
    "time_horizon = 2048 ##2048 # How many steps to collect per agent before adding to buffer.\n",
    "beta = 1e-3 ##1e-3 # Strength of entropy regularization\n",
    "num_epoch = 5 ##5 # Number of gradient descent steps per batch of experiences.\n",
    "num_layers = 2 ##2 # Number of hidden layers between state/observation encoding and value/policy layers.\n",
    "epsilon = 0.2 ##0.2 # Acceptable threshold around ratio of old and new policy probabilities.\n",
    "buffer_size = 4096 ##2048 # How large the experience buffer should be before gradient descent.\n",
    "learning_rate = 3e-4 # Model learning rate.\n",
    "hidden_units = 128 ##64 # Number of units in hidden layer.\n",
    "batch_size = 32 ##64 # How many experiences per gradient descent update step.\n",
    "normalize = False\n",
    "\n",
    "### Logging dictionary for hyperparameters\n",
    "hyperparameter_dict = {'max_steps':max_steps, 'run_path':run_path, 'env_name':env_name,\n",
    "    'curriculum_file':curriculum_file, 'gamma':gamma, 'lambd':lambd, 'time_horizon':time_horizon,\n",
    "    'beta':beta, 'num_epoch':num_epoch, 'epsilon':epsilon, 'buffe_size':buffer_size,\n",
    "    'leaning_rate':learning_rate, 'hidden_units':hidden_units, 'batch_size':batch_size}"
   ]
  },
  {
   "cell_type": "markdown",
   "metadata": {},
   "source": [
    "### Load the environment"
   ]
  },
  {
   "cell_type": "code",
   "execution_count": 3,
   "metadata": {},
   "outputs": [
    {
     "name": "stderr",
     "output_type": "stream",
     "text": [
      "INFO:unityagents:\n",
      "'DemoPPOLAcademy' started successfully!\n"
     ]
    },
    {
     "name": "stdout",
     "output_type": "stream",
     "text": [
      "Unity Academy name: DemoPPOLAcademy\n",
      "        Number of brains: 1\n",
      "        Reset Parameters :\n",
      "\t\t\n",
      "Unity brain name: DemoPPOLBrain\n",
      "        Number of observations (per agent): 0\n",
      "        State space type: continuous\n",
      "        State space size (per agent): 4\n",
      "        Action space type: discrete\n",
      "        Action space size (per agent): 4\n",
      "        Memory space size (per agent): 0\n",
      "        Action descriptions: NegativeX, PositiveX, NegativeZ, PositiveZ\n"
     ]
    }
   ],
   "source": [
    "env = UnityEnvironment(file_name=env_name, curriculum=curriculum_file)\n",
    "print(str(env))\n",
    "brain_name = env.external_brain_names[0]"
   ]
  },
  {
   "cell_type": "markdown",
   "metadata": {},
   "source": [
    "### Train the Agent(s)"
   ]
  },
  {
   "cell_type": "code",
   "execution_count": 4,
   "metadata": {
    "scrolled": true
   },
   "outputs": [
    {
     "name": "stdout",
     "output_type": "stream",
     "text": [
      "Step: 10000. Mean Reward: -14.285053714232035. Std of Reward: 7.697268944446036.\n",
      "Step: 20000. Mean Reward: -6.559515958080009. Std of Reward: 0.0.\n",
      "Saved Model\n",
      "Step: 60000. Mean Reward: 13.393274075678615. Std of Reward: 0.0.\n",
      "Step: 70000. Mean Reward: 13.367475255066864. Std of Reward: 0.0.\n",
      "Step: 80000. Mean Reward: 13.384179746642332. Std of Reward: 0.019015661244073057.\n",
      "Step: 90000. Mean Reward: 13.392003532569513. Std of Reward: 0.0.\n",
      "Step: 100000. Mean Reward: 13.380099289721212. Std of Reward: 0.00318121007581329.\n",
      "Saved Model\n",
      "Step: 110000. Mean Reward: 13.379826817433582. Std of Reward: 0.010224451406928787.\n",
      "Step: 120000. Mean Reward: 13.387871293741188. Std of Reward: 0.017241377294038743.\n",
      "Step: 130000. Mean Reward: 13.386687228034422. Std of Reward: 0.011370703395184404.\n",
      "Step: 140000. Mean Reward: 13.379057745387646. Std of Reward: 0.00948512421062631.\n",
      "Step: 150000. Mean Reward: 13.37737467751631. Std of Reward: 0.008582770532597605.\n",
      "Saved Model\n",
      "Step: 160000. Mean Reward: 13.383504971499539. Std of Reward: 0.013879963060558075.\n",
      "Step: 170000. Mean Reward: 13.377599646952953. Std of Reward: 0.009458753621590456.\n",
      "Step: 180000. Mean Reward: 13.381424231711446. Std of Reward: 0.014083575596778395.\n",
      "Step: 190000. Mean Reward: 13.375066933576251. Std of Reward: 0.009416040598550555.\n",
      "Step: 200000. Mean Reward: 13.376841453816596. Std of Reward: 0.0075481635868659665.\n",
      "Saved Model\n",
      "Step: 210000. Mean Reward: 13.372501407547714. Std of Reward: 0.006933867904840659.\n",
      "Step: 220000. Mean Reward: 13.383289373620126. Std of Reward: 0.013191689090715015.\n",
      "Step: 230000. Mean Reward: 13.37412644214706. Std of Reward: 0.0073673590392740315.\n",
      "Step: 240000. Mean Reward: 13.374015073700894. Std of Reward: 0.006448384823626834.\n",
      "Step: 250000. Mean Reward: 13.37329264709065. Std of Reward: 0.006508184687085699.\n",
      "Saved Model\n",
      "Step: 260000. Mean Reward: 13.376363367809837. Std of Reward: 0.009070382391341818.\n",
      "Step: 270000. Mean Reward: 13.374282580086946. Std of Reward: 0.013102272845055376.\n",
      "Step: 280000. Mean Reward: 13.374855906946063. Std of Reward: 0.005825621486984829.\n",
      "Step: 290000. Mean Reward: 13.376647689504335. Std of Reward: 0.007606195833994066.\n",
      "Step: 300000. Mean Reward: 13.372657410594167. Std of Reward: 0.006471061340576508.\n",
      "Saved Model\n",
      "Step: 310000. Mean Reward: 13.379948770517224. Std of Reward: 0.00952818137451381.\n",
      "Step: 320000. Mean Reward: 13.376532735844556. Std of Reward: 0.005970692368645333.\n",
      "Step: 330000. Mean Reward: 13.374864767081336. Std of Reward: 0.0067826682238698.\n",
      "Step: 340000. Mean Reward: 13.376218486649831. Std of Reward: 0.007337690385190562.\n",
      "Step: 350000. Mean Reward: 13.375115771782946. Std of Reward: 0.005951423486664495.\n",
      "Saved Model\n",
      "Step: 360000. Mean Reward: 13.375367622782058. Std of Reward: 0.0056418423155843766.\n",
      "Step: 370000. Mean Reward: 13.376886802004444. Std of Reward: 0.007007984602342885.\n",
      "Step: 380000. Mean Reward: 13.37654374139711. Std of Reward: 0.007806642740138378.\n",
      "Step: 390000. Mean Reward: 13.376536033650497. Std of Reward: 0.00638827180468527.\n",
      "Step: 400000. Mean Reward: 13.379048052408947. Std of Reward: 0.006556618556722845.\n",
      "Saved Model\n",
      "Step: 410000. Mean Reward: 13.374094293379942. Std of Reward: 0.005682899501773176.\n",
      "Step: 420000. Mean Reward: 13.378328212342666. Std of Reward: 0.011684325237284236.\n",
      "Step: 430000. Mean Reward: 13.377782301379495. Std of Reward: 0.007799335211860372.\n",
      "Step: 440000. Mean Reward: 13.37920340639222. Std of Reward: 0.00847099265802321.\n",
      "Step: 450000. Mean Reward: 13.378110484960114. Std of Reward: 0.0055558200025775.\n",
      "Saved Model\n",
      "Step: 460000. Mean Reward: 13.377211666809101. Std of Reward: 0.00639579670898369.\n",
      "Step: 470000. Mean Reward: 13.37668667478011. Std of Reward: 0.00666854453753708.\n",
      "Step: 480000. Mean Reward: 13.378033791238945. Std of Reward: 0.006153989424919746.\n",
      "Step: 490000. Mean Reward: 13.378294423120277. Std of Reward: 0.005804089345030187.\n",
      "Step: 500000. Mean Reward: 13.376198393447332. Std of Reward: 0.007047525197949008.\n",
      "Saved Model\n",
      "Saved Model\n",
      "INFO:tensorflow:Restoring parameters from ./models/ppo\\model-500001.cptk\n"
     ]
    },
    {
     "name": "stderr",
     "output_type": "stream",
     "text": [
      "INFO:tensorflow:Restoring parameters from ./models/ppo\\model-500001.cptk\n"
     ]
    },
    {
     "name": "stdout",
     "output_type": "stream",
     "text": [
      "INFO:tensorflow:Froze 4 variables.\n"
     ]
    },
    {
     "name": "stderr",
     "output_type": "stream",
     "text": [
      "INFO:tensorflow:Froze 4 variables.\n"
     ]
    },
    {
     "name": "stdout",
     "output_type": "stream",
     "text": [
      "Converted 4 variables to const ops.\n"
     ]
    }
   ],
   "source": [
    "tf.reset_default_graph()\n",
    "\n",
    "if curriculum_file == \"None\":\n",
    "    curriculum_file = None\n",
    "\n",
    "\n",
    "def get_progress():\n",
    "    if curriculum_file is not None:\n",
    "        if env._curriculum.measure_type == \"progress\":\n",
    "            return steps / max_steps\n",
    "        elif env._curriculum.measure_type == \"reward\":\n",
    "            return last_reward\n",
    "        else:\n",
    "            return None\n",
    "    else:\n",
    "        return None\n",
    "\n",
    "# Create the Tensorflow model graph\n",
    "ppo_model = create_agent_model(env, lr=learning_rate,\n",
    "                               h_size=hidden_units, epsilon=epsilon,\n",
    "                               beta=beta, max_step=max_steps, \n",
    "                               normalize=normalize, num_layers=num_layers)\n",
    "\n",
    "is_continuous = (env.brains[brain_name].action_space_type == \"continuous\")\n",
    "use_observations = (env.brains[brain_name].number_observations > 0)\n",
    "use_states = (env.brains[brain_name].state_space_size > 0)\n",
    "\n",
    "model_path = './models/{}'.format(run_path)\n",
    "summary_path = './summaries/{}'.format(run_path)\n",
    "\n",
    "if not os.path.exists(model_path):\n",
    "    os.makedirs(model_path)\n",
    "\n",
    "if not os.path.exists(summary_path):\n",
    "    os.makedirs(summary_path)\n",
    "\n",
    "init = tf.global_variables_initializer()\n",
    "saver = tf.train.Saver()\n",
    "\n",
    "with tf.Session() as sess:\n",
    "    # Instantiate model parameters\n",
    "    if load_model:\n",
    "        print('Loading Model...')\n",
    "        ckpt = tf.train.get_checkpoint_state(model_path)\n",
    "        saver.restore(sess, ckpt.model_checkpoint_path)\n",
    "    else:\n",
    "        sess.run(init)\n",
    "    steps, last_reward = sess.run([ppo_model.global_step, ppo_model.last_reward])    \n",
    "    summary_writer = tf.summary.FileWriter(summary_path)\n",
    "    info = env.reset(train_mode=train_model, progress=get_progress())[brain_name]\n",
    "    trainer = Trainer(ppo_model, sess, info, is_continuous, use_observations, use_states, train_model)\n",
    "    if train_model:\n",
    "        trainer.write_text(summary_writer, 'Hyperparameters', hyperparameter_dict, steps)\n",
    "    while steps <= max_steps:\n",
    "        if env.global_done:\n",
    "            info = env.reset(train_mode=train_model, progress=get_progress())[brain_name]\n",
    "        # Decide and take an action\n",
    "        new_info = trainer.take_action(info, env, brain_name, steps, normalize)\n",
    "        info = new_info\n",
    "        trainer.process_experiences(info, time_horizon, gamma, lambd)\n",
    "        if len(trainer.training_buffer['actions']) > buffer_size and train_model:\n",
    "            # Perform gradient descent with experience buffer\n",
    "            trainer.update_model(batch_size, num_epoch)\n",
    "        if steps % summary_freq == 0 and steps != 0 and train_model:\n",
    "            # Write training statistics to tensorboard.\n",
    "            trainer.write_summary(summary_writer, steps, env._curriculum.lesson_number)\n",
    "        if steps % save_freq == 0 and steps != 0 and train_model:\n",
    "            # Save Tensorflow model\n",
    "            save_model(sess, model_path=model_path, steps=steps, saver=saver)\n",
    "        steps += 1\n",
    "        sess.run(ppo_model.increment_step)\n",
    "        if len(trainer.stats['cumulative_reward']) > 0:\n",
    "            mean_reward = np.mean(trainer.stats['cumulative_reward'])\n",
    "            sess.run(ppo_model.update_reward, feed_dict={ppo_model.new_reward: mean_reward})\n",
    "            last_reward = sess.run(ppo_model.last_reward)\n",
    "    # Final save Tensorflow model\n",
    "    if steps != 0 and train_model:\n",
    "        save_model(sess, model_path=model_path, steps=steps, saver=saver)\n",
    "env.close()\n",
    "export_graph(model_path, env_name)"
   ]
  },
  {
   "cell_type": "markdown",
   "metadata": {},
   "source": [
    "### Export the trained Tensorflow graph\n",
    "Once the model has been trained and saved, we can export it as a .bytes file which Unity can embed."
   ]
  },
  {
   "cell_type": "code",
   "execution_count": 5,
   "metadata": {},
   "outputs": [
    {
     "name": "stdout",
     "output_type": "stream",
     "text": [
      "INFO:tensorflow:Restoring parameters from ./models/ppo\\model-500001.cptk\n"
     ]
    },
    {
     "name": "stderr",
     "output_type": "stream",
     "text": [
      "INFO:tensorflow:Restoring parameters from ./models/ppo\\model-500001.cptk\n"
     ]
    },
    {
     "name": "stdout",
     "output_type": "stream",
     "text": [
      "INFO:tensorflow:Froze 4 variables.\n"
     ]
    },
    {
     "name": "stderr",
     "output_type": "stream",
     "text": [
      "INFO:tensorflow:Froze 4 variables.\n"
     ]
    },
    {
     "name": "stdout",
     "output_type": "stream",
     "text": [
      "Converted 4 variables to const ops.\n"
     ]
    }
   ],
   "source": [
    "export_graph(model_path, env_name)"
   ]
  }
 ],
 "metadata": {
  "anaconda-cloud": {},
  "kernelspec": {
   "display_name": "Python 3",
   "language": "python",
   "name": "python3"
  },
  "language_info": {
   "codemirror_mode": {
    "name": "ipython",
    "version": 3
   },
   "file_extension": ".py",
   "mimetype": "text/x-python",
   "name": "python",
   "nbconvert_exporter": "python",
   "pygments_lexer": "ipython3",
   "version": "3.5.2"
  }
 },
 "nbformat": 4,
 "nbformat_minor": 1
}
