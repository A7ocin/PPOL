{
 "cells": [
  {
   "cell_type": "markdown",
   "metadata": {},
   "source": [
    "# Unity ML Agents\n",
    "## Proximal Policy Optimization (PPO)\n",
    "Contains an implementation of PPO as described [here](https://arxiv.org/abs/1707.06347)."
   ]
  },
  {
   "cell_type": "code",
   "execution_count": 1,
   "metadata": {},
   "outputs": [],
   "source": [
    "import numpy as np\n",
    "import os\n",
    "import tensorflow as tf\n",
    "\n",
    "from ppo.history import *\n",
    "from ppo.models import *\n",
    "from ppo.trainer import Trainer\n",
    "from unityagents import *"
   ]
  },
  {
   "cell_type": "markdown",
   "metadata": {},
   "source": [
    "### Hyperparameters"
   ]
  },
  {
   "cell_type": "code",
   "execution_count": 2,
   "metadata": {},
   "outputs": [],
   "source": [
    "### General parameters\n",
    "max_steps = 5e5 # Set maximum number of steps to run environment.\n",
    "run_path = \"ppo\" # The sub-directory name for model and summary statistics\n",
    "load_model = False # Whether to load a saved model.\n",
    "train_model = True # Whether to train the model.\n",
    "summary_freq = 10000 # Frequency at which to save training statistics.\n",
    "save_freq = 50000 # Frequency at which to save model.\n",
    "env_name = \"PPOLSimpleCollision\" # Name of the training environment file.\n",
    "curriculum_file = None\n",
    "\n",
    "### Algorithm-specific parameters for tuning\n",
    "gamma = 0.99 #0.99 # Reward discount rate.\n",
    "lambd = 0.95 ##0.95 # Lambda parameter for GAE.\n",
    "time_horizon = 2048 ##2048 # How many steps to collect per agent before adding to buffer.\n",
    "beta = 1e-3 ##1e-3 # Strength of entropy regularization\n",
    "num_epoch = 5 ##5 # Number of gradient descent steps per batch of experiences.\n",
    "num_layers = 2 ##2 # Number of hidden layers between state/observation encoding and value/policy layers.\n",
    "epsilon = 0.2 ##0.2 # Acceptable threshold around ratio of old and new policy probabilities.\n",
    "buffer_size = 4096 ##2048 # How large the experience buffer should be before gradient descent.\n",
    "learning_rate = 3e-4 # Model learning rate.\n",
    "hidden_units = 128 ##64 # Number of units in hidden layer.\n",
    "batch_size = 32 ##64 # How many experiences per gradient descent update step.\n",
    "normalize = False\n",
    "\n",
    "### Logging dictionary for hyperparameters\n",
    "hyperparameter_dict = {'max_steps':max_steps, 'run_path':run_path, 'env_name':env_name,\n",
    "    'curriculum_file':curriculum_file, 'gamma':gamma, 'lambd':lambd, 'time_horizon':time_horizon,\n",
    "    'beta':beta, 'num_epoch':num_epoch, 'epsilon':epsilon, 'buffe_size':buffer_size,\n",
    "    'leaning_rate':learning_rate, 'hidden_units':hidden_units, 'batch_size':batch_size}"
   ]
  },
  {
   "cell_type": "markdown",
   "metadata": {},
   "source": [
    "### Load the environment"
   ]
  },
  {
   "cell_type": "code",
   "execution_count": 3,
   "metadata": {},
   "outputs": [
    {
     "name": "stderr",
     "output_type": "stream",
     "text": [
      "INFO:unityagents:\n",
      "'DemoPPOLAcademy' started successfully!\n"
     ]
    },
    {
     "name": "stdout",
     "output_type": "stream",
     "text": [
      "Unity Academy name: DemoPPOLAcademy\n",
      "        Number of brains: 1\n",
      "        Reset Parameters :\n",
      "\t\t\n",
      "Unity brain name: DemoPPOLBrain\n",
      "        Number of observations (per agent): 0\n",
      "        State space type: continuous\n",
      "        State space size (per agent): 6\n",
      "        Action space type: discrete\n",
      "        Action space size (per agent): 4\n",
      "        Memory space size (per agent): 0\n",
      "        Action descriptions: NegativeX, PositiveX, NegativeZ, PositiveZ\n"
     ]
    }
   ],
   "source": [
    "env = UnityEnvironment(file_name=env_name, curriculum=curriculum_file)\n",
    "print(str(env))\n",
    "brain_name = env.external_brain_names[0]"
   ]
  },
  {
   "cell_type": "markdown",
   "metadata": {},
   "source": [
    "### Train the Agent(s)"
   ]
  },
  {
   "cell_type": "code",
   "execution_count": 4,
   "metadata": {
    "scrolled": true
   },
   "outputs": [
    {
     "name": "stdout",
     "output_type": "stream",
     "text": [
      "Step: 20000. Mean Reward: -3.105200791149828. Std of Reward: 14.478578347987174.\n",
      "Step: 30000. Mean Reward: -2.769984761072411. Std of Reward: 8.449202988837122.\n",
      "Step: 40000. Mean Reward: 8.364033857961367. Std of Reward: 6.382056033380264.\n",
      "Step: 50000. Mean Reward: 8.34388812652232. Std of Reward: 5.754393733154565.\n",
      "Saved Model\n",
      "Step: 60000. Mean Reward: 8.588713885935856. Std of Reward: 5.423607278236419.\n",
      "Step: 70000. Mean Reward: 11.8345526344033. Std of Reward: 2.0133563209204373.\n",
      "Step: 80000. Mean Reward: 11.957699693835497. Std of Reward: 2.0453270221407536.\n",
      "Step: 90000. Mean Reward: 11.928023069711834. Std of Reward: 2.037904560663833.\n",
      "Step: 100000. Mean Reward: 12.021550783916839. Std of Reward: 2.0561449991303773.\n",
      "Saved Model\n",
      "Step: 110000. Mean Reward: 11.97727997707266. Std of Reward: 2.047491969681713.\n",
      "Step: 120000. Mean Reward: 11.977141927780677. Std of Reward: 2.048936830168601.\n",
      "Step: 130000. Mean Reward: 11.92932109321056. Std of Reward: 2.0402830684275446.\n",
      "Step: 140000. Mean Reward: 11.99644097677621. Std of Reward: 2.0560660630929872.\n",
      "Step: 150000. Mean Reward: 11.995038611910005. Std of Reward: 2.0547380987970123.\n",
      "Saved Model\n",
      "Step: 160000. Mean Reward: 11.995729267845903. Std of Reward: 2.054130799972574.\n",
      "Step: 170000. Mean Reward: 12.016045330122932. Std of Reward: 2.059265250680243.\n",
      "Step: 180000. Mean Reward: 11.951586012376076. Std of Reward: 2.044219547525494.\n",
      "Step: 190000. Mean Reward: 12.013510098595292. Std of Reward: 2.0624520490689715.\n",
      "Step: 200000. Mean Reward: 11.950713412748147. Std of Reward: 2.0475563544619315.\n",
      "Saved Model\n",
      "Step: 210000. Mean Reward: 12.013809284022901. Std of Reward: 2.0569391475461094.\n",
      "Step: 220000. Mean Reward: 11.950993584925424. Std of Reward: 2.046493121828159.\n",
      "Step: 230000. Mean Reward: 12.012120932995197. Std of Reward: 2.05865309200431.\n",
      "Step: 240000. Mean Reward: 12.014263006720734. Std of Reward: 2.058951397425585.\n",
      "Step: 250000. Mean Reward: 12.012399597545391. Std of Reward: 2.0576623053275087.\n",
      "Saved Model\n",
      "Step: 260000. Mean Reward: 11.952383552535805. Std of Reward: 2.0472636563123072.\n",
      "Step: 270000. Mean Reward: 11.974106158247789. Std of Reward: 2.050258475334309.\n",
      "Step: 280000. Mean Reward: 12.014852308746102. Std of Reward: 2.0556483113793145.\n",
      "Step: 290000. Mean Reward: 12.014139489551786. Std of Reward: 2.0562375857569677.\n",
      "Step: 300000. Mean Reward: 11.955208402952257. Std of Reward: 2.043519846586037.\n",
      "Saved Model\n",
      "Step: 310000. Mean Reward: 12.013912602443664. Std of Reward: 2.055204425614701.\n",
      "Step: 320000. Mean Reward: 11.973796265676912. Std of Reward: 2.0463049021572637.\n",
      "Step: 330000. Mean Reward: 12.01481108611903. Std of Reward: 2.053321723669021.\n",
      "Step: 340000. Mean Reward: 11.954235715429883. Std of Reward: 2.041553049875179.\n",
      "Step: 350000. Mean Reward: 12.014692493358544. Std of Reward: 2.052430217251597.\n",
      "Saved Model\n",
      "Step: 360000. Mean Reward: 12.014861590400008. Std of Reward: 2.052287686432622.\n",
      "Step: 370000. Mean Reward: 11.973895033950008. Std of Reward: 2.044928304552478.\n",
      "Step: 380000. Mean Reward: 11.95336467103201. Std of Reward: 2.040904610695907.\n",
      "Step: 390000. Mean Reward: 12.014699076153667. Std of Reward: 2.0520943424386444.\n",
      "Step: 400000. Mean Reward: 12.014530014155863. Std of Reward: 2.0522369029436627.\n",
      "Saved Model\n",
      "Step: 410000. Mean Reward: 12.014492692664643. Std of Reward: 2.052599462648694.\n",
      "Step: 420000. Mean Reward: 11.974212306541197. Std of Reward: 2.0453133883805963.\n",
      "Step: 430000. Mean Reward: 11.953177798354508. Std of Reward: 2.041738204700443.\n",
      "Step: 440000. Mean Reward: 12.014848372550494. Std of Reward: 2.05295937462819.\n",
      "Step: 450000. Mean Reward: 12.014861584548788. Std of Reward: 2.052287679386983.\n",
      "Saved Model\n",
      "Step: 460000. Mean Reward: 12.014699076153667. Std of Reward: 2.0520943424386444.\n",
      "Step: 470000. Mean Reward: 11.913105267597569. Std of Reward: 2.031876171121958.\n",
      "Step: 480000. Mean Reward: 12.014692510790008. Std of Reward: 2.0524302142523188.\n",
      "Step: 490000. Mean Reward: 12.014699076153667. Std of Reward: 2.0520943424386444.\n",
      "Step: 500000. Mean Reward: 12.014861561368301. Std of Reward: 2.0522876518491135.\n",
      "Saved Model\n",
      "Saved Model\n",
      "INFO:tensorflow:Restoring parameters from ./models/ppo\\model-500001.cptk\n"
     ]
    },
    {
     "name": "stderr",
     "output_type": "stream",
     "text": [
      "INFO:tensorflow:Restoring parameters from ./models/ppo\\model-500001.cptk\n"
     ]
    },
    {
     "name": "stdout",
     "output_type": "stream",
     "text": [
      "INFO:tensorflow:Froze 4 variables.\n"
     ]
    },
    {
     "name": "stderr",
     "output_type": "stream",
     "text": [
      "INFO:tensorflow:Froze 4 variables.\n"
     ]
    },
    {
     "name": "stdout",
     "output_type": "stream",
     "text": [
      "Converted 4 variables to const ops.\n"
     ]
    }
   ],
   "source": [
    "tf.reset_default_graph()\n",
    "\n",
    "if curriculum_file == \"None\":\n",
    "    curriculum_file = None\n",
    "\n",
    "\n",
    "def get_progress():\n",
    "    if curriculum_file is not None:\n",
    "        if env._curriculum.measure_type == \"progress\":\n",
    "            return steps / max_steps\n",
    "        elif env._curriculum.measure_type == \"reward\":\n",
    "            return last_reward\n",
    "        else:\n",
    "            return None\n",
    "    else:\n",
    "        return None\n",
    "\n",
    "# Create the Tensorflow model graph\n",
    "ppo_model = create_agent_model(env, lr=learning_rate,\n",
    "                               h_size=hidden_units, epsilon=epsilon,\n",
    "                               beta=beta, max_step=max_steps, \n",
    "                               normalize=normalize, num_layers=num_layers)\n",
    "\n",
    "is_continuous = (env.brains[brain_name].action_space_type == \"continuous\")\n",
    "use_observations = (env.brains[brain_name].number_observations > 0)\n",
    "use_states = (env.brains[brain_name].state_space_size > 0)\n",
    "\n",
    "model_path = './models/{}'.format(run_path)\n",
    "summary_path = './summaries/{}'.format(run_path)\n",
    "\n",
    "if not os.path.exists(model_path):\n",
    "    os.makedirs(model_path)\n",
    "\n",
    "if not os.path.exists(summary_path):\n",
    "    os.makedirs(summary_path)\n",
    "\n",
    "init = tf.global_variables_initializer()\n",
    "saver = tf.train.Saver()\n",
    "\n",
    "with tf.Session() as sess:\n",
    "    # Instantiate model parameters\n",
    "    if load_model:\n",
    "        print('Loading Model...')\n",
    "        ckpt = tf.train.get_checkpoint_state(model_path)\n",
    "        saver.restore(sess, ckpt.model_checkpoint_path)\n",
    "    else:\n",
    "        sess.run(init)\n",
    "    steps, last_reward = sess.run([ppo_model.global_step, ppo_model.last_reward])    \n",
    "    summary_writer = tf.summary.FileWriter(summary_path)\n",
    "    info = env.reset(train_mode=train_model, progress=get_progress())[brain_name]\n",
    "    trainer = Trainer(ppo_model, sess, info, is_continuous, use_observations, use_states, train_model)\n",
    "    if train_model:\n",
    "        trainer.write_text(summary_writer, 'Hyperparameters', hyperparameter_dict, steps)\n",
    "    while steps <= max_steps:\n",
    "        if env.global_done:\n",
    "            info = env.reset(train_mode=train_model, progress=get_progress())[brain_name]\n",
    "        # Decide and take an action\n",
    "        new_info = trainer.take_action(info, env, brain_name, steps, normalize)\n",
    "        info = new_info\n",
    "        trainer.process_experiences(info, time_horizon, gamma, lambd)\n",
    "        if len(trainer.training_buffer['actions']) > buffer_size and train_model:\n",
    "            # Perform gradient descent with experience buffer\n",
    "            trainer.update_model(batch_size, num_epoch)\n",
    "        if steps % summary_freq == 0 and steps != 0 and train_model:\n",
    "            # Write training statistics to tensorboard.\n",
    "            trainer.write_summary(summary_writer, steps, env._curriculum.lesson_number)\n",
    "        if steps % save_freq == 0 and steps != 0 and train_model:\n",
    "            # Save Tensorflow model\n",
    "            save_model(sess, model_path=model_path, steps=steps, saver=saver)\n",
    "        steps += 1\n",
    "        sess.run(ppo_model.increment_step)\n",
    "        if len(trainer.stats['cumulative_reward']) > 0:\n",
    "            mean_reward = np.mean(trainer.stats['cumulative_reward'])\n",
    "            sess.run(ppo_model.update_reward, feed_dict={ppo_model.new_reward: mean_reward})\n",
    "            last_reward = sess.run(ppo_model.last_reward)\n",
    "    # Final save Tensorflow model\n",
    "    if steps != 0 and train_model:\n",
    "        save_model(sess, model_path=model_path, steps=steps, saver=saver)\n",
    "env.close()\n",
    "export_graph(model_path, env_name)"
   ]
  },
  {
   "cell_type": "markdown",
   "metadata": {},
   "source": [
    "### Export the trained Tensorflow graph\n",
    "Once the model has been trained and saved, we can export it as a .bytes file which Unity can embed."
   ]
  },
  {
   "cell_type": "code",
   "execution_count": 5,
   "metadata": {},
   "outputs": [
    {
     "name": "stdout",
     "output_type": "stream",
     "text": [
      "INFO:tensorflow:Restoring parameters from ./models/ppo\\model-500001.cptk\n"
     ]
    },
    {
     "name": "stderr",
     "output_type": "stream",
     "text": [
      "INFO:tensorflow:Restoring parameters from ./models/ppo\\model-500001.cptk\n"
     ]
    },
    {
     "name": "stdout",
     "output_type": "stream",
     "text": [
      "INFO:tensorflow:Froze 4 variables.\n"
     ]
    },
    {
     "name": "stderr",
     "output_type": "stream",
     "text": [
      "INFO:tensorflow:Froze 4 variables.\n"
     ]
    },
    {
     "name": "stdout",
     "output_type": "stream",
     "text": [
      "Converted 4 variables to const ops.\n"
     ]
    }
   ],
   "source": [
    "export_graph(model_path, env_name)"
   ]
  }
 ],
 "metadata": {
  "anaconda-cloud": {},
  "kernelspec": {
   "display_name": "Python 3",
   "language": "python",
   "name": "python3"
  },
  "language_info": {
   "codemirror_mode": {
    "name": "ipython",
    "version": 3
   },
   "file_extension": ".py",
   "mimetype": "text/x-python",
   "name": "python",
   "nbconvert_exporter": "python",
   "pygments_lexer": "ipython3",
   "version": "3.5.2"
  }
 },
 "nbformat": 4,
 "nbformat_minor": 1
}
